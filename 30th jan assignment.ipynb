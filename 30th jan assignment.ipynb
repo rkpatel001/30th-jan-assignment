{
 "cells": [
  {
   "cell_type": "code",
   "execution_count": 8,
   "id": "e1c793bb-fe48-4e46-9ed0-73e5052e952b",
   "metadata": {},
   "outputs": [
    {
     "name": "stdin",
     "output_type": "stream",
     "text": [
      "Enter your perdsantage :  76\n"
     ]
    },
    {
     "name": "stdout",
     "output_type": "stream",
     "text": [
      "C grade\n"
     ]
    }
   ],
   "source": [
    " p = int(input(\"Enter your perdsantage : \"))\n",
    "\n",
    "\n",
    "if p > 90 :\n",
    "    print(\"A grade\")\n",
    "elif p > 80 and p < 90 :\n",
    "    print(\"B grade\")\n",
    "elif p >= 60 and p <= 80 :\n",
    "    print(\"C grade\")\n",
    "elif p < 60 :\n",
    "    print(\"D grade\")\n",
    "else:\n",
    "    print(\"invallid marks\")"
   ]
  },
  {
   "cell_type": "code",
   "execution_count": null,
   "id": "1d928e60-34ce-4a0c-ae02-f97ce855eb19",
   "metadata": {},
   "outputs": [],
   "source": [
    " t = int(input(\"Enter your bike cost : \"))\n",
    "    \n",
    "if t > 100000:\n",
    "    b=(t*15)/100\n",
    "    print(\"your tax is : \",b)\n",
    "    \n",
    "elif t > 50000 and t <=100000 :\n",
    "    b=(t*10)/100\n",
    "    print(\"your tax is : \",b)\n",
    "    \n",
    "elif t <= 50000 :\n",
    "    b=(t*5)/100\n",
    "    print(\"your tax is : \",b)\n",
    "    \n",
    "else:\n",
    "    print(\"invallid price\")\n",
    "    "
   ]
  },
  {
   "cell_type": "code",
   "execution_count": null,
   "id": "39a7d2ca-9773-445f-9799-89be363e775c",
   "metadata": {},
   "outputs": [],
   "source": [
    "c = input(\"Enter city : \")\n",
    "\n",
    "if c == \"delhi\" :\n",
    "    print(\"Red fort\")\n",
    "elif c == \"agra\" :\n",
    "    print(\"Taj Mahal\")\n",
    "elif c == \"jaipur\":\n",
    "    print(\"Jal mahal\")\n",
    "else:\n",
    "    print('Data has not found')"
   ]
  },
  {
   "cell_type": "code",
   "execution_count": null,
   "id": "5ef28fb2-d312-48ee-8f06-8b1ce729b9aa",
   "metadata": {},
   "outputs": [],
   "source": [
    "\n",
    "i = 10\n",
    "while ( i >= 0):\n",
    "    print(i)\n",
    "    i = i - 1"
   ]
  },
  {
   "cell_type": "code",
   "execution_count": null,
   "id": "7e06e6a7-bd32-4b4b-ab84-ba809d05dc3b",
   "metadata": {},
   "outputs": [],
   "source": []
  },
  {
   "cell_type": "code",
   "execution_count": null,
   "id": "e6081382-9d18-41c7-9f11-fbda13e31b90",
   "metadata": {},
   "outputs": [],
   "source": []
  }
 ],
 "metadata": {
  "kernelspec": {
   "display_name": "Python 3 (ipykernel)",
   "language": "python",
   "name": "python3"
  },
  "language_info": {
   "codemirror_mode": {
    "name": "ipython",
    "version": 3
   },
   "file_extension": ".py",
   "mimetype": "text/x-python",
   "name": "python",
   "nbconvert_exporter": "python",
   "pygments_lexer": "ipython3",
   "version": "3.10.8"
  }
 },
 "nbformat": 4,
 "nbformat_minor": 5
}
